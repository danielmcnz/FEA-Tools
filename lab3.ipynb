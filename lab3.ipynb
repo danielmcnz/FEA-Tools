{
 "cells": [
  {
   "cell_type": "code",
   "execution_count": 7,
   "metadata": {},
   "outputs": [
    {
     "name": "stdout",
     "output_type": "stream",
     "text": [
      "[[ 2.70967742e+03]\n",
      " [ 3.31839778e-13]\n",
      " [-1.80645161e+04]\n",
      " [-2.70967742e+03]\n",
      " [-3.31839778e-13]\n",
      " [ 4.51612903e+04]]\n",
      "[[ 2709.67741935]\n",
      " [ 9483.87096774]\n",
      " [94838.70967742]\n",
      " [-2709.67741935]\n",
      " [-9483.87096774]\n",
      " [    0.        ]]\n"
     ]
    }
   ],
   "source": [
    "from FEA import FrameElement, Structure, np\n",
    "\n",
    "assembly_mat_1 = np.array([\n",
    "    [0, 0, 0, 1, 0, 0],\n",
    "    [0, 0, 0, 0, 0, 1],\n",
    "    [0, 0, 0, 0, 0, 0]\n",
    "])\n",
    "\n",
    "assembly_mat_2 = np.array([\n",
    "    [1, 0, 0, 0, 0, 0],\n",
    "    [0, 0, 1, 0, 0, 0],\n",
    "    [0, 0, 0, 0, 0, 1]\n",
    "])\n",
    "\n",
    "element1 = FrameElement(assembly_mat_1, 200e9, 5e-4, 10, 1e-5, -90)\n",
    "element2 = FrameElement(assembly_mat_2, 200e9, 5e-4, 10, 1e-5, 0)\n",
    "\n",
    "Q = np.array([[0], [140e3], [0]])\n",
    "\n",
    "structure = Structure([element1, element2], Q)\n",
    "\n",
    "structure.solve()\n",
    "\n",
    "for element in structure.elements:\n",
    "    print(element.global_force)"
   ]
  }
 ],
 "metadata": {
  "kernelspec": {
   "display_name": "Python 3",
   "language": "python",
   "name": "python3"
  },
  "language_info": {
   "codemirror_mode": {
    "name": "ipython",
    "version": 3
   },
   "file_extension": ".py",
   "mimetype": "text/x-python",
   "name": "python",
   "nbconvert_exporter": "python",
   "pygments_lexer": "ipython3",
   "version": "3.10.5"
  },
  "orig_nbformat": 4
 },
 "nbformat": 4,
 "nbformat_minor": 2
}
