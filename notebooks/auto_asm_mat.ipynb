{
 "cells": [
  {
   "cell_type": "code",
   "execution_count": 1,
   "metadata": {},
   "outputs": [
    {
     "ename": "ImportError",
     "evalue": "attempted relative import with no known parent package",
     "output_type": "error",
     "traceback": [
      "\u001b[1;31m---------------------------------------------------------------------------\u001b[0m",
      "\u001b[1;31mImportError\u001b[0m                               Traceback (most recent call last)",
      "Cell \u001b[1;32mIn[1], line 1\u001b[0m\n\u001b[1;32m----> 1\u001b[0m \u001b[39mfrom\u001b[39;00m \u001b[39m.\u001b[39;00m\u001b[39m.\u001b[39;00m\u001b[39mFEA\u001b[39;00m \u001b[39mimport\u001b[39;00m \u001b[39m*\u001b[39m\n\u001b[0;32m      4\u001b[0m supports \u001b[39m=\u001b[39m [\n\u001b[0;32m      5\u001b[0m     FixedSupport(Vec2(\u001b[39m0\u001b[39m, \u001b[39m10\u001b[39m)),\n\u001b[0;32m      6\u001b[0m     RollerSupport(Vec2(\u001b[39m0\u001b[39m, \u001b[39m0\u001b[39m)),\n\u001b[0;32m      7\u001b[0m     PinSupport(Vec2(\u001b[39m10\u001b[39m, \u001b[39m0\u001b[39m))\n\u001b[0;32m      8\u001b[0m ]\n\u001b[0;32m     10\u001b[0m E \u001b[39m=\u001b[39m \u001b[39m200e9\u001b[39m\n",
      "\u001b[1;31mImportError\u001b[0m: attempted relative import with no known parent package"
     ]
    }
   ],
   "source": [
    "from FEA.FEA import *\n",
    "\n",
    "\n",
    "supports = [\n",
    "    FixedSupport(Vec2(0, 10)),\n",
    "    RollerSupport(Vec2(0, 0)),\n",
    "    PinSupport(Vec2(10, 0))\n",
    "]\n",
    "\n",
    "E = 200e9\n",
    "I = 5e-4\n",
    "L1 = L2 = 10\n",
    "A = 1e-5\n",
    "angle1 = -90\n",
    "angle2 = 0\n",
    "\n",
    "elements = [\n",
    "    Element([Vec2(0, 10), Vec2(0, 0)], E, I, L1, A, angle1),\n",
    "    Element([Vec2(0, 0), Vec2(10, 0)], E, I, L2, A, angle2)\n",
    "]\n",
    "\n",
    "Q = np.zeros((3, 1))\n",
    "Q[1] = 140e3\n",
    "\n",
    "structure = Structure(elements, supports, Q)\n",
    "\n",
    "structure.solve()\n",
    "\n",
    "structure.plot_structure(100, 20)"
   ]
  }
 ],
 "metadata": {
  "kernelspec": {
   "display_name": "Python 3",
   "language": "python",
   "name": "python3"
  },
  "language_info": {
   "codemirror_mode": {
    "name": "ipython",
    "version": 3
   },
   "file_extension": ".py",
   "mimetype": "text/x-python",
   "name": "python",
   "nbconvert_exporter": "python",
   "pygments_lexer": "ipython3",
   "version": "3.10.8"
  },
  "orig_nbformat": 4
 },
 "nbformat": 4,
 "nbformat_minor": 2
}
