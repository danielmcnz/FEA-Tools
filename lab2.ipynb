{
 "cells": [
  {
   "cell_type": "markdown",
   "metadata": {},
   "source": [
    "# Systems of axial bars"
   ]
  },
  {
   "cell_type": "markdown",
   "metadata": {},
   "source": [
    "### Example from course reader"
   ]
  },
  {
   "cell_type": "code",
   "execution_count": 36,
   "metadata": {},
   "outputs": [
    {
     "name": "stdout",
     "output_type": "stream",
     "text": [
      "[[ 100000.]\n",
      " [      0.]\n",
      " [-100000.]\n",
      " [      0.]]\n",
      "[[-100000.]\n",
      " [-100000.]\n",
      " [ 100000.]\n",
      " [ 100000.]]\n"
     ]
    }
   ],
   "source": [
    "from FEA import *\n",
    "\n",
    "assembly_mat_1 = np.array([[0, 0, 1, 0], [0, 0, 0, 1]])\n",
    "assembly_mat_2 = np.array([[0, 0, 1, 0], [0, 0, 0, 1]])\n",
    "\n",
    "element1 = Element(assembly_mat_1, 200e9, 10, (np.pi * (0.1 ** 2)) / 4, 0)\n",
    "element2 = Element(assembly_mat_2, 200e9, 10 * 1.41, (np.pi * (0.1 ** 2)) / 4, 45)\n",
    "\n",
    "Q = np.array([[0], [100e3]]) # external force vector\n",
    "\n",
    "structure = Structure([element1, element2], Q)\n",
    "\n",
    "structure.solve()\n",
    "\n",
    "for element in structure.elements:\n",
    "    print(element.global_force_vector)"
   ]
  },
  {
   "cell_type": "markdown",
   "metadata": {},
   "source": [
    "# Question 3"
   ]
  },
  {
   "cell_type": "code",
   "execution_count": 29,
   "metadata": {},
   "outputs": [
    {
     "name": "stdout",
     "output_type": "stream",
     "text": [
      "[[-14004.15076419]\n",
      " [     0.        ]\n",
      " [ 14004.15076419]\n",
      " [     0.        ]]\n",
      "[[-14004.15076419]\n",
      " [-20000.        ]\n",
      " [ 14004.15076419]\n",
      " [ 20000.        ]]\n"
     ]
    }
   ],
   "source": [
    "assembly_mat_1 = np.array([[0, 0, 1, 0], [0, 0, 0, 1]])\n",
    "assembly_mat_2 = np.array([[1, 0, 0, 0], [0, 1, 0, 0]])\n",
    "\n",
    "element1 = Element(assembly_mat_1, 200e9, 1.1, 400e-6, 0)\n",
    "element2 = Element(assembly_mat_2, 200e9, 0.8, 600e-6, 55)\n",
    "\n",
    "Q = np.array([[0], [-20e3]]) # external force vector\n",
    "\n",
    "structure = Structure([element1, element2], Q)\n",
    "\n",
    "structure.solve()\n",
    "\n",
    "for element in structure.elements:\n",
    "    print(element.global_force_vector)"
   ]
  },
  {
   "cell_type": "markdown",
   "metadata": {},
   "source": [
    "### choosing a different orientation (different assembly matrices)"
   ]
  },
  {
   "cell_type": "code",
   "execution_count": 41,
   "metadata": {},
   "outputs": [
    {
     "name": "stdout",
     "output_type": "stream",
     "text": [
      "[[ 14004.15076419]\n",
      " [     0.        ]\n",
      " [-14004.15076419]\n",
      " [     0.        ]]\n",
      "[[ 14004.15076419]\n",
      " [ 20000.        ]\n",
      " [-14004.15076419]\n",
      " [-20000.        ]]\n"
     ]
    }
   ],
   "source": [
    "assembly_mat_1 = np.array([[1, 0, 0, 0], [0, 1, 0, 0]])\n",
    "assembly_mat_2 = np.array([[0, 0, 1, 0], [0, 0, 0, 1]])\n",
    "\n",
    "element1 = Element(assembly_mat_1, 200e9, 1.1, 400e-6, 0)\n",
    "element2 = Element(assembly_mat_2, 200e9, 0.8, 600e-6, 55)\n",
    "\n",
    "Q = np.array([[0], [-20e3]]) # external force vector\n",
    "\n",
    "structure = Structure([element1, element2], Q)\n",
    "\n",
    "structure.solve()\n",
    "\n",
    "for element in structure.elements:\n",
    "    print(element.global_force_vector)"
   ]
  },
  {
   "cell_type": "markdown",
   "metadata": {},
   "source": [
    "### Plotting the deformed shape graph"
   ]
  },
  {
   "cell_type": "code",
   "execution_count": 55,
   "metadata": {},
   "outputs": [
    {
     "data": {
      "image/png": "[encoded data removed]",
      "text/plain": [
       "<Figure size 640x480 with 1 Axes>"
      ]
     },
     "metadata": {},
     "output_type": "display_data"
    }
   ],
   "source": [
    "import matplotlib.pyplot as plt\n",
    "\n",
    "x_tot = x_tot_defl = 0\n",
    "y_tot = y_tot_defl = 0\n",
    "\n",
    "resolution = 2\n",
    "\n",
    "mag = 100\n",
    "\n",
    "for element in structure.elements:\n",
    "\n",
    "    if(element.angle == 0):\n",
    "        x = element.L\n",
    "        y = element.L * np.tan(np.deg2rad(element.angle))\n",
    "    elif(element.angle > 0):\n",
    "        x = element.L * np.cos(np.deg2rad(element.angle))\n",
    "        y = element.L * np.sin(np.deg2rad(element.angle))\n",
    "\n",
    "    plt.plot(np.linspace(x_tot, x + x_tot, resolution), np.linspace(y_tot, y + y_tot, resolution))\n",
    "    \n",
    "    plt.plot(np.linspace(x_tot_defl, x + x_tot_defl + structure.q[:,0][0] * mag, resolution), np.linspace(y_tot_defl, y + y_tot_defl + structure.q[:,0][1] * mag, resolution), '--')\n",
    "\n",
    "    x_tot += x\n",
    "    y_tot += y\n",
    "\n",
    "    x_tot_defl += x + structure.q[:,0][0] * mag\n",
    "    y_tot_defl += y + structure.q[:,0][1] * mag\n",
    "\n",
    "plt.show()"
   ]
  }
 ],
 "metadata": {
  "kernelspec": {
   "display_name": "Python 3",
   "language": "python",
   "name": "python3"
  },
  "language_info": {
   "codemirror_mode": {
    "name": "ipython",
    "version": 3
   },
   "file_extension": ".py",
   "mimetype": "text/x-python",
   "name": "python",
   "nbconvert_exporter": "python",
   "pygments_lexer": "ipython3",
   "version": "3.11.0"
  },
  "orig_nbformat": 4
 },
 "nbformat": 4,
 "nbformat_minor": 2
}
